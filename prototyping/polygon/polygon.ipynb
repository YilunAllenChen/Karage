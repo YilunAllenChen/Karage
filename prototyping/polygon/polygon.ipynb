{
 "cells": [
  {
   "cell_type": "code",
   "execution_count": 119,
   "metadata": {},
   "outputs": [],
   "source": [
    "import dotenv\n",
    "import os\n",
    "\n",
    "dotenv.load_dotenv(\"../../\")\n",
    "polygon_api_key = os.environ[\"POLYGON_API_KEY\"]\n",
    "assert polygon_api_key"
   ]
  },
  {
   "cell_type": "code",
   "execution_count": 120,
   "metadata": {},
   "outputs": [],
   "source": [
    "from polygon import RESTClient\n",
    "client = RESTClient(polygon_api_key)"
   ]
  },
  {
   "cell_type": "code",
   "execution_count": 121,
   "metadata": {},
   "outputs": [],
   "source": [
    "px = client.get_aggs(\n",
    "    ticker=\"AAPL\", multiplier=1, timespan=\"day\", from_=\"2022-03-01\", to=\"2023-03-13\"\n",
    ")"
   ]
  },
  {
   "cell_type": "code",
   "execution_count": 122,
   "metadata": {},
   "outputs": [],
   "source": [
    "from math import log, sqrt, pi, exp\n",
    "from scipy.stats import norm\n",
    "from datetime import datetime, date\n",
    "import numpy as np\n",
    "import pandas as pd\n",
    "from pandas import DataFrame\n",
    "\n",
    "class OptionSpec:\n",
    "    def __init__(\n",
    "        self,\n",
    "        und_price: float,\n",
    "        strike: float,\n",
    "        yte: float,\n",
    "        rfr: float,\n",
    "        market_quote: float,\n",
    "    ) -> None:\n",
    "        S, K, T, R = und_price, strike, yte, rfr\n",
    "        self.und_price = und_price\n",
    "        self.strike = strike\n",
    "        self.yte = yte\n",
    "        self.rfr = rfr\n",
    "\n",
    "        def d1(S, K, T, r, sigma):\n",
    "            return (log(S / K) + (r + sigma**2 / 2.0) * T) / (sigma * sqrt(T))\n",
    "\n",
    "        def d2(S, K, T, r, sigma):\n",
    "            return d1(S, K, T, r, sigma) - sigma * sqrt(T)\n",
    "\n",
    "        def call_implied_volatility(Price, S, K, T, r):\n",
    "            sigma = 0.001\n",
    "            while sigma < 1:\n",
    "                Price_implied = S * norm.cdf(d1(S, K, T, r, sigma)) - K * exp(\n",
    "                    -r * T\n",
    "                ) * norm.cdf(d2(S, K, T, r, sigma))\n",
    "                if Price - (Price_implied) < 0.001:\n",
    "                    return sigma\n",
    "                sigma += 0.001\n",
    "            return 0\n",
    "\n",
    "        def put_implied_volatility(Price, S, K, T, r):\n",
    "            sigma = 0.001\n",
    "            while sigma < 1:\n",
    "                Price_implied = K * exp(-r * T) - S + S*norm.cdf(d1(S,K,T,r,sigma))-K*exp(-r*T)*norm.cdf(d2(S,K,T,r,sigma))\n",
    "                if Price - (Price_implied) < 0.001:\n",
    "                    return sigma\n",
    "                sigma += 0.001\n",
    "            return 0\n",
    "\n",
    "        c_sigma = call_implied_volatility(Price=market_quote, S=S, K=K, T=T, r=R)\n",
    "        p_sigma = put_implied_volatility(Price=market_quote, S=S, K=K, T=T, r=R)\n",
    "        self.c_iv = c_sigma\n",
    "        self.p_iv = p_sigma\n",
    "\n",
    "        if c_sigma != 0:\n",
    "            self.call_price = S * norm.cdf(d1(S, K, T, R, c_sigma)) - K * exp(\n",
    "                -R * T\n",
    "            ) * norm.cdf(d2(S, K, T, R, c_sigma))\n",
    "            self.put_price = K * exp(-R * T) - S * self.call_price\n",
    "\n",
    "            self.c_delta = norm.cdf(d1(S, K, T, R, c_sigma))\n",
    "            self.c_gamma = norm.pdf(d1(S, K, T, R, c_sigma)) / (S * c_sigma * sqrt(T))\n",
    "            self.c_vega = 0.01 * (S * norm.pdf(d1(S, K, T, R, c_sigma)) * sqrt(T))\n",
    "            self.c_theta = 0.01 * (\n",
    "                -(S * norm.pdf(d1(S, K, T, R, c_sigma)) * c_sigma) / (2 * sqrt(T))\n",
    "                - R * K * exp(-R * T) * norm.cdf(d2(S, K, T, R, c_sigma))\n",
    "            )\n",
    "        \n",
    "        if p_sigma != 0:\n",
    "            self.p_delta = -norm.cdf(-d1(S, K, T, R, p_sigma))\n",
    "            self.p_gamma = norm.pdf(d1(S, K, T, R, p_sigma)) / (S * p_sigma * sqrt(T))\n",
    "            self.p_vega = 0.01 * (S * norm.pdf(d1(S, K, T, R, p_sigma)) * sqrt(T))\n",
    "            self.p_theta = 0.01 * (\n",
    "                -(S * norm.pdf(d1(S, K, T, R, p_sigma)) * p_sigma) / (2 * sqrt(T))\n",
    "                + R * K * exp(-R * T) * norm.cdf(-d2(S, K, T, R, p_sigma))\n",
    "            )\n",
    "    "
   ]
  },
  {
   "cell_type": "code",
   "execution_count": 123,
   "metadata": {},
   "outputs": [
    {
     "data": {
      "text/plain": [
       "1646110800000"
      ]
     },
     "execution_count": 123,
     "metadata": {},
     "output_type": "execute_result"
    }
   ],
   "source": [
    "px[0].timestamp"
   ]
  },
  {
   "cell_type": "code",
   "execution_count": 124,
   "metadata": {},
   "outputs": [],
   "source": [
    "def build_polygon_ticker(ticker: str, strike: float, expiry: date, call_put = \"C\"):\n",
    "    strike_str = str(strike).split('.')\n",
    "    wholes = strike_str[0].rjust(5, '0')\n",
    "    decimals = strike_str[1].rjust(3, '0') if len(strike_str) > 1 else \"000\"\n",
    "    return (\n",
    "        f\"O:{ticker}\"\n",
    "        f\"{expiry.year%100}{str(expiry.month).rjust(2,'0')}{str(expiry.day).rjust(2,'0')}\"\n",
    "        f\"{call_put}\"\n",
    "        f\"{wholes}{decimals}\"\n",
    "    )"
   ]
  },
  {
   "cell_type": "code",
   "execution_count": 125,
   "metadata": {},
   "outputs": [],
   "source": [
    "from pymongo import MongoClient\n",
    "def get_database():\n",
    " \n",
    "   # Provide the mongodb atlas url to connect python to mongodb using pymongo\n",
    "   CONNECTION_STRING = \"mongodb://localhost:27017\"\n",
    " \n",
    "   # Create a connection using MongoClient. You can import MongoClient or use pymongo.MongoClient\n",
    "   client = MongoClient(CONNECTION_STRING)\n",
    " \n",
    "   # Create the database for our example (we will use the same database throughout the tutorial\n",
    "   return client['quant']\n",
    "db = get_database()\n",
    "opts_db = db.get_collection(\"opts\")\n",
    "und_px_db = db.get_collection(\"und_px\")"
   ]
  },
  {
   "cell_type": "code",
   "execution_count": 127,
   "metadata": {},
   "outputs": [
    {
     "name": "stdout",
     "output_type": "stream",
     "text": [
      "Expected key \"results\" in response {'ticker': 'O:AAPL220415C00120000', 'queryCount': 0, 'resultsCount': 0, 'adjusted': True, 'status': 'OK', 'request_id': '77f77797029ba68df19acc14b1722307'}.Make sure you have sufficient permissions and your request parameters are valid.This is the url that returned no results: https://api.polygon.io/v2/aggs/ticker/O:AAPL220415C00120000/range/1/day/2022-01-01/2023-03-12\n",
      "Expected key \"results\" in response {'ticker': 'O:AAPL220415C00125000', 'queryCount': 0, 'resultsCount': 0, 'adjusted': True, 'status': 'OK', 'request_id': '3fa0d27f2594cc5c9c046e75ae9ef173'}.Make sure you have sufficient permissions and your request parameters are valid.This is the url that returned no results: https://api.polygon.io/v2/aggs/ticker/O:AAPL220415C00125000/range/1/day/2022-01-01/2023-03-12\n",
      "Expected key \"results\" in response {'ticker': 'O:AAPL220415C00130000', 'queryCount': 0, 'resultsCount': 0, 'adjusted': True, 'status': 'OK', 'request_id': 'e8e9f6dec7aaa5c021c070916b405e38'}.Make sure you have sufficient permissions and your request parameters are valid.This is the url that returned no results: https://api.polygon.io/v2/aggs/ticker/O:AAPL220415C00130000/range/1/day/2022-01-01/2023-03-12\n",
      "Expected key \"results\" in response {'ticker': 'O:AAPL220415C00135000', 'queryCount': 0, 'resultsCount': 0, 'adjusted': True, 'status': 'OK', 'request_id': '3b4d272b4b02d8a4584a60e2260056d5'}.Make sure you have sufficient permissions and your request parameters are valid.This is the url that returned no results: https://api.polygon.io/v2/aggs/ticker/O:AAPL220415C00135000/range/1/day/2022-01-01/2023-03-12\n",
      "Expected key \"results\" in response {'ticker': 'O:AAPL220415C00140000', 'queryCount': 0, 'resultsCount': 0, 'adjusted': True, 'status': 'OK', 'request_id': '36b3b485482c10359372fbe21a796e6b'}.Make sure you have sufficient permissions and your request parameters are valid.This is the url that returned no results: https://api.polygon.io/v2/aggs/ticker/O:AAPL220415C00140000/range/1/day/2022-01-01/2023-03-12\n",
      "Expected key \"results\" in response {'ticker': 'O:AAPL220415C00145000', 'queryCount': 0, 'resultsCount': 0, 'adjusted': True, 'status': 'OK', 'request_id': '50c30241071c90eb2fe195302e08683f'}.Make sure you have sufficient permissions and your request parameters are valid.This is the url that returned no results: https://api.polygon.io/v2/aggs/ticker/O:AAPL220415C00145000/range/1/day/2022-01-01/2023-03-12\n",
      "Expected key \"results\" in response {'ticker': 'O:AAPL220415C00150000', 'queryCount': 0, 'resultsCount': 0, 'adjusted': True, 'status': 'OK', 'request_id': 'fd1cfd443e206d273996306f3190ae4f'}.Make sure you have sufficient permissions and your request parameters are valid.This is the url that returned no results: https://api.polygon.io/v2/aggs/ticker/O:AAPL220415C00150000/range/1/day/2022-01-01/2023-03-12\n",
      "Expected key \"results\" in response {'ticker': 'O:AAPL220415C00155000', 'queryCount': 0, 'resultsCount': 0, 'adjusted': True, 'status': 'OK', 'request_id': 'db2169cf84bc1b3607cdbd6376d1d0b6'}.Make sure you have sufficient permissions and your request parameters are valid.This is the url that returned no results: https://api.polygon.io/v2/aggs/ticker/O:AAPL220415C00155000/range/1/day/2022-01-01/2023-03-12\n",
      "Expected key \"results\" in response {'ticker': 'O:AAPL220415C00160000', 'queryCount': 0, 'resultsCount': 0, 'adjusted': True, 'status': 'OK', 'request_id': 'dd215857d1fee4635d7488d3d5161540'}.Make sure you have sufficient permissions and your request parameters are valid.This is the url that returned no results: https://api.polygon.io/v2/aggs/ticker/O:AAPL220415C00160000/range/1/day/2022-01-01/2023-03-12\n",
      "Expected key \"results\" in response {'ticker': 'O:AAPL220415C00165000', 'queryCount': 0, 'resultsCount': 0, 'adjusted': True, 'status': 'OK', 'request_id': '16f38c5a2d86c8ea5c3a39a0b1410c8c'}.Make sure you have sufficient permissions and your request parameters are valid.This is the url that returned no results: https://api.polygon.io/v2/aggs/ticker/O:AAPL220415C00165000/range/1/day/2022-01-01/2023-03-12\n",
      "Expected key \"results\" in response {'ticker': 'O:AAPL220415C00170000', 'queryCount': 0, 'resultsCount': 0, 'adjusted': True, 'status': 'OK', 'request_id': '5e3755939bbfce97e4d6f581664740f8'}.Make sure you have sufficient permissions and your request parameters are valid.This is the url that returned no results: https://api.polygon.io/v2/aggs/ticker/O:AAPL220415C00170000/range/1/day/2022-01-01/2023-03-12\n",
      "Expected key \"results\" in response {'ticker': 'O:AAPL220415C00175000', 'queryCount': 0, 'resultsCount': 0, 'adjusted': True, 'status': 'OK', 'request_id': 'df4adc9724ff69aa1f67262a91e1619c'}.Make sure you have sufficient permissions and your request parameters are valid.This is the url that returned no results: https://api.polygon.io/v2/aggs/ticker/O:AAPL220415C00175000/range/1/day/2022-01-01/2023-03-12\n"
     ]
    }
   ],
   "source": [
    "call_ticker = build_polygon_ticker(\"AAPL\", 150, date(2023, 12, 15), \"C\")\n",
    "put_ticker = build_polygon_ticker(\"AAPL\", 150, date(2023, 12, 15), \"P\")\n",
    "import datetime\n",
    "import time\n",
    "base_day = date(2022, 1, 7)\n",
    "und_ticker = \"AAPL\"\n",
    "\n",
    "for strike in range(120,180,5):\n",
    "    curr_day = base_day\n",
    "    while curr_day < date.today():\n",
    "        try:\n",
    "            curr_day = curr_day + datetime.timedelta(days=7)\n",
    "            time.sleep(13)\n",
    "            call_ticker = client.get_aggs(\n",
    "                ticker=build_polygon_ticker(und_ticker, strike, curr_day, \"C\"), \n",
    "                multiplier=1, timespan=\"day\", from_=\"2022-01-01\", to=\"2023-03-12\"\n",
    "            )\n",
    "            d = pd.DataFrame(call_ticker).set_index(\"timestamp\").T.to_dict()\n",
    "            d = {\n",
    "                str(k): v\n",
    "                for (k,v) in d.items()\n",
    "            }\n",
    "            d['expiry_date'] = str(curr_day)\n",
    "            d['strike'] = strike\n",
    "            opts_db.insert_one(d)\n",
    "        except Exception as e:\n",
    "            print(e)"
   ]
  },
  {
   "cell_type": "code",
   "execution_count": null,
   "metadata": {},
   "outputs": [],
   "source": []
  },
  {
   "cell_type": "markdown",
   "metadata": {},
   "source": []
  }
 ],
 "metadata": {
  "kernelspec": {
   "display_name": "Python 3",
   "language": "python",
   "name": "python3"
  },
  "language_info": {
   "codemirror_mode": {
    "name": "ipython",
    "version": 3
   },
   "file_extension": ".py",
   "mimetype": "text/x-python",
   "name": "python",
   "nbconvert_exporter": "python",
   "pygments_lexer": "ipython3",
   "version": "3.9.1"
  },
  "orig_nbformat": 4
 },
 "nbformat": 4,
 "nbformat_minor": 2
}
